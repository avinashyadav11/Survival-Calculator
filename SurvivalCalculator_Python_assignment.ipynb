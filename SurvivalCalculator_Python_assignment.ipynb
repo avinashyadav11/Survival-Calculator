{
  "nbformat": 4,
  "nbformat_minor": 0,
  "metadata": {
    "colab": {
      "provenance": [],
      "authorship_tag": "ABX9TyOHxP+8z0PJHJsdjjHAU4gn",
      "include_colab_link": true
    },
    "kernelspec": {
      "name": "python3",
      "display_name": "Python 3"
    },
    "language_info": {
      "name": "python"
    }
  },
  "cells": [
    {
      "cell_type": "markdown",
      "metadata": {
        "id": "view-in-github",
        "colab_type": "text"
      },
      "source": [
        "<a href=\"https://colab.research.google.com/github/avinashyadav11/Survival-Calculator/blob/main/SurvivalCalculator_Python_assignment.ipynb\" target=\"_parent\"><img src=\"https://colab.research.google.com/assets/colab-badge.svg\" alt=\"Open In Colab\"/></a>"
      ]
    },
    {
      "cell_type": "code",
      "execution_count": 6,
      "metadata": {
        "id": "7bbjuNNIfGEy"
      },
      "outputs": [],
      "source": [
        "class SurvivalCalculator:\n",
        "    def __init__(self, age):\n",
        "        self.age = age\n",
        "\n",
        "    #method to calculate Months\n",
        "    def calculate_months(self):\n",
        "        return self.age * 12\n",
        "\n",
        "    #method to calculate Week\n",
        "    def calculate_weeks(self):\n",
        "        # multiplying 52 weeks with age\n",
        "        return self.age * 52\n",
        "\n",
        "    #method to calculate Days\n",
        "    def calculate_days(self):\n",
        "        # multiplying 365 days with age\n",
        "        return self.age * 365\n",
        "\n",
        "    #method to calculate Days\n",
        "    def calculate_hours(self):\n",
        "        # multiplying 24 hours with days and age\n",
        "        return self.age * 365 * 24\n",
        "\n",
        "    #method to calculate Minutes\n",
        "    def calculate_minutes(self):\n",
        "        # multiplying 60 minutes with hours, days and age\n",
        "        return self.age * 365 * 24 * 60\n",
        "\n",
        "    #method to calculate seconds\n",
        "    def calculate_seconds(self):\n",
        "        # multiplying 60 seconds with minutes, hours, days and age\n",
        "\n",
        "        #returning the value to object\n",
        "        return self.age * 365 * 24 * 60 * 60\n",
        "\n",
        "\n"
      ]
    },
    {
      "cell_type": "code",
      "source": [
        "\n",
        "def main_method():\n",
        "    age = int(input(\"Please enter your age? \"))\n",
        "\n",
        "    unit = input(\"Please choose a unit from: Months, Weeks, Days, Hours, Minutes, Seconds. \").strip().lower()\n",
        "\n",
        "    obj = SurvivalCalculator(age)\n",
        "\n",
        "    #Checking if user entered string is Months\n",
        "    if unit.startswith('month'):\n",
        "        duration = obj.calculate_months()\n",
        "    #Checking if user entered string is weeks\n",
        "    elif unit.startswith('week'):\n",
        "        duration = obj.calculate_weeks()\n",
        "    #Checking if user entered string is days\n",
        "    elif unit.startswith('day'):\n",
        "        duration = obj.calculate_days()\n",
        "    #Checking if user entered string is hours\n",
        "    elif unit.startswith('hour'):\n",
        "        duration = obj.calculate_hours()\n",
        "    #Checking if user entered string is minutes\n",
        "    elif unit.startswith('minute'):\n",
        "        duration = obj.calculate_minutes()\n",
        "    #Checking if user entered string is seconds\n",
        "    elif unit.startswith('second'):\n",
        "        duration = obj.calculate_seconds()\n",
        "    #If non of the above then displaying below message\n",
        "    else:\n",
        "        print(\"Invalid time unit entered. Please try again.\")\n",
        "        return\n",
        "\n",
        "    print(f\"You have survived for {duration} {unit.capitalize()}\")\n",
        "\n",
        "if __name__ == \"__main__\":\n",
        "    main_method()"
      ],
      "metadata": {
        "colab": {
          "base_uri": "https://localhost:8080/"
        },
        "id": "2BIwwXjff6ri",
        "outputId": "77cbe087-4d23-4183-ef4f-746c54c45ee2"
      },
      "execution_count": 10,
      "outputs": [
        {
          "output_type": "stream",
          "name": "stdout",
          "text": [
            "Please enter your age? 29\n",
            "Please choose a unit from: Months, Weeks, Days, Hours, Minutes, Seconds. month\n",
            "You have survived for 348 Month\n"
          ]
        }
      ]
    }
  ]
}